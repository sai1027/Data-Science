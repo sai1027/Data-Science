{
 "cells": [
  {
   "cell_type": "markdown",
   "id": "28092c38",
   "metadata": {},
   "source": [
    "## 1.Why are functions advantageous to have in your programs?\n",
    "\n",
    "A:\n",
    "we can reuse the code multiple times."
   ]
  },
  {
   "cell_type": "markdown",
   "id": "3e7fbc4c",
   "metadata": {},
   "source": [
    "## 2.When does the code in a function run: when it's specified or when it's called?\n",
    "\n",
    "A: Untill the function is called it wont run the code.\n",
    "\n",
    "<br>\n"
   ]
  },
  {
   "cell_type": "markdown",
   "id": "13fe1b5b",
   "metadata": {},
   "source": [
    "### 3.What statement creates a function?\n",
    "\n",
    "A: \"def\" keyword createws a function.\n",
    "\n",
    "Eg: \n",
    "\n",
    "``` python\n",
    "def add(a,b):\n",
    "    return a+b\n",
    "    \n",
    "```\n",
    "    \n"
   ]
  },
  {
   "cell_type": "markdown",
   "id": "ace73a1c",
   "metadata": {},
   "source": [
    "### 4.What is the difference between a function and a function call?\n",
    "\n",
    "A: \n",
    "- function is a block of code.And do not execute code until it is called.\n",
    "- function call is using the function to execute the code."
   ]
  },
  {
   "cell_type": "markdown",
   "id": "147bf527",
   "metadata": {},
   "source": [
    "### 5.How many global scopes are there in a Python program? How many local scopes?\n",
    "\n",
    "A: \n",
    "- Global scope will valid untill the entire program is over.\n",
    "- Local scope valid until the funtion is terminated.\n",
    "- There can be any number"
   ]
  },
  {
   "cell_type": "markdown",
   "id": "700bb630",
   "metadata": {},
   "source": [
    "### 6.What happens to variables in a local scope when the function call returns?\n",
    "\n",
    "A:\n",
    "After the function is returned all the varibles created in the function will be deleted."
   ]
  },
  {
   "cell_type": "markdown",
   "id": "ae142f21",
   "metadata": {},
   "source": [
    "### 7.What is the concept of a return value? Is it possible to have a return value in an expression?\n",
    "\n",
    "A: \n",
    "A return value is the value which the function call expects from the function. A return statement is used to end the execution of the function call and “returns” the result (or return value) back to the caller.\n",
    "\n",
    "A return value can be used as part of an expression."
   ]
  },
  {
   "cell_type": "markdown",
   "id": "463a9786",
   "metadata": {},
   "source": [
    "### 8.If a function does not have a return statement, what is the return value of a call to that function?\n",
    "\n",
    "A: The function will return \"None\" if there is no return statement for any function."
   ]
  },
  {
   "cell_type": "markdown",
   "id": "f7c213ed",
   "metadata": {},
   "source": [
    "### 9. How do you make a function variable refer to the global variable?\n",
    "\n",
    "If we need to refer the global variable in a function, we will have to use the global keyword to declare those variables which are global.\n",
    "\n",
    "Eg: \n",
    "```python\n",
    "def fun():\n",
    "  global x\n",
    "  x = \"data science\"\n",
    "\n",
    "fun()\n",
    "print(\"Python is \" + x)\n",
    "\n",
    "```"
   ]
  },
  {
   "cell_type": "markdown",
   "id": "3e613f3c",
   "metadata": {},
   "source": [
    "### 10. What is the data type of None?\n",
    "\n",
    "A: \n",
    "NoneType"
   ]
  },
  {
   "cell_type": "markdown",
   "id": "5c5a31ec",
   "metadata": {},
   "source": [
    "### 11. What does the sentence import areallyourpetsnamederic do?\n",
    "\n",
    "A: It import the package \"areallyourpetsnamederic\"."
   ]
  },
  {
   "cell_type": "markdown",
   "id": "5a2fe78c",
   "metadata": {},
   "source": [
    "### 12. If you had a bacon() feature in a spam module, what would you call it after importing spam?\n",
    "\n",
    "A: spam.bacon()"
   ]
  },
  {
   "cell_type": "markdown",
   "id": "8293f8ee",
   "metadata": {},
   "source": [
    "### 13. What can you do to save a programme from crashing if it encounters an error?\n",
    "\n",
    "A: CAn use the \"Try.. Except\" feature to overcome this situation."
   ]
  },
  {
   "cell_type": "markdown",
   "id": "92a84fb1",
   "metadata": {},
   "source": [
    "### 14. What is the purpose of the try clause? What is the purpose of the except clause?\n",
    "\n",
    "A: \n",
    "- The piece of code which might cause an error, will have to be captured in the \"Try\" clause.\n",
    "\n",
    "- The piece of code will get executed when an error happens, will have to be captured in \"Except\" clause."
   ]
  }
 ],
 "metadata": {
  "kernelspec": {
   "display_name": "Python 3 (ipykernel)",
   "language": "python",
   "name": "python3"
  },
  "language_info": {
   "codemirror_mode": {
    "name": "ipython",
    "version": 3
   },
   "file_extension": ".py",
   "mimetype": "text/x-python",
   "name": "python",
   "nbconvert_exporter": "python",
   "pygments_lexer": "ipython3",
   "version": "3.9.13"
  }
 },
 "nbformat": 4,
 "nbformat_minor": 5
}
