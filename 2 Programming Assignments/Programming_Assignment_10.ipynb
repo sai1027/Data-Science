{
 "cells": [
  {
   "cell_type": "markdown",
   "id": "6bec3f66",
   "metadata": {},
   "source": [
    "**1. Write a Python program to find sum of elements in list?**"
   ]
  },
  {
   "cell_type": "code",
   "execution_count": 1,
   "id": "112c630d",
   "metadata": {},
   "outputs": [
    {
     "name": "stdout",
     "output_type": "stream",
     "text": [
      " Please enter the list of elements: \n",
      "23 5 34 75 7\n",
      "\n",
      "Sum of all the elements in the given list is: 144\n"
     ]
    }
   ],
   "source": [
    "try:\n",
    "    print(\" Please enter the list of elements: \")\n",
    "    my_list = list(map(int, input().split()))\n",
    "except ValueError as err:\n",
    "    print(f\"{err}. Please enter only integer values\")\n",
    "else:\n",
    "    print(f\"\\nSum of all the elements in the given list is: {sum(my_list)}\")\n"
   ]
  },
  {
   "cell_type": "markdown",
   "id": "e8a297b0",
   "metadata": {},
   "source": [
    "***"
   ]
  },
  {
   "cell_type": "markdown",
   "id": "b596915d",
   "metadata": {},
   "source": [
    "**2. Write a Python program to Multiply all numbers in the list?**"
   ]
  },
  {
   "cell_type": "code",
   "execution_count": 2,
   "id": "bda3681a",
   "metadata": {},
   "outputs": [
    {
     "name": "stdout",
     "output_type": "stream",
     "text": [
      " Please enter the list of elements: \n",
      "1 2 6 34 7 2\n",
      "\n",
      "Multiplication of all the elements in the given list is: 5712\n"
     ]
    }
   ],
   "source": [
    "try:\n",
    "    print(\" Please enter the list of elements: \")\n",
    "    my_list = list(map(int, input().split()))\n",
    "except ValueError as err:\n",
    "    print(f\"{err}. Please enter only integer values\")\n",
    "else:\n",
    "    result = 1\n",
    "    for i in range(0, len(my_list)):\n",
    "        result = result * my_list[i]\n",
    "    print(f\"\\nMultiplication of all the elements in the given list is: {result}\")\n"
   ]
  },
  {
   "cell_type": "markdown",
   "id": "6444b97e",
   "metadata": {},
   "source": [
    "***"
   ]
  },
  {
   "cell_type": "markdown",
   "id": "5173a73e",
   "metadata": {},
   "source": [
    "**3. Write a Python program to find smallest number in a list?**"
   ]
  },
  {
   "cell_type": "code",
   "execution_count": 3,
   "id": "7b0b66de",
   "metadata": {},
   "outputs": [
    {
     "name": "stdout",
     "output_type": "stream",
     "text": [
      " Please enter the list of elements: \n",
      "2 43 65 87 -23\n",
      "\n",
      "Smallest number in the given list is: -23\n"
     ]
    }
   ],
   "source": [
    "try:\n",
    "    print(\" Please enter the list of elements: \")\n",
    "    my_list = list(map(int, input().split()))\n",
    "except ValueError as err:\n",
    "    print(f\"{err}. Please enter only integer values\")\n",
    "else:\n",
    "    result = sorted(list(set(my_list)), reverse=True)[-1]\n",
    "    print(f\"\\nSmallest number in the given list is: {result}\")\n"
   ]
  },
  {
   "cell_type": "markdown",
   "id": "be27a99f",
   "metadata": {},
   "source": [
    "***"
   ]
  },
  {
   "cell_type": "markdown",
   "id": "53cabaa9",
   "metadata": {},
   "source": [
    "**4. Write a Python program to find largest number in a list?**"
   ]
  },
  {
   "cell_type": "code",
   "execution_count": 4,
   "id": "13685678",
   "metadata": {},
   "outputs": [
    {
     "name": "stdout",
     "output_type": "stream",
     "text": [
      " Please enter the list of elements: \n",
      "23 54 1 6 2\n",
      "\n",
      "Largest number in the given list is: 54\n"
     ]
    }
   ],
   "source": [
    "try:\n",
    "    print(\" Please enter the list of elements: \")\n",
    "    my_list = list(map(int, input().split()))\n",
    "except ValueError as err:\n",
    "    print(f\"{err}. Please enter only integer values\")\n",
    "else:\n",
    "    result = sorted(list(set(my_list)), reverse=True)[0]\n",
    "    print(f\"\\nLargest number in the given list is: {result}\")\n"
   ]
  },
  {
   "cell_type": "markdown",
   "id": "8da0f41a",
   "metadata": {},
   "source": [
    "***"
   ]
  },
  {
   "cell_type": "markdown",
   "id": "2ba3d6b6",
   "metadata": {},
   "source": [
    "**5. Write a Python program to find second largest number in a list?**"
   ]
  },
  {
   "cell_type": "code",
   "execution_count": 5,
   "id": "0cc82b80",
   "metadata": {},
   "outputs": [
    {
     "name": "stdout",
     "output_type": "stream",
     "text": [
      " Please enter the list of elements: \n",
      "2 4 6 4 6 8 42 6\n",
      "\n",
      "Second largest number in the given list is: 8\n"
     ]
    }
   ],
   "source": [
    "try:\n",
    "    print(\" Please enter the list of elements: \")\n",
    "    my_list = list(map(int, input().split()))\n",
    "except ValueError as err:\n",
    "    print(f\"{err}. Please enter only integer values\")\n",
    "else:\n",
    "    result = sorted(list(set(my_list)), reverse=True)[1]\n",
    "    print(f\"\\nSecond largest number in the given list is: {result}\")\n"
   ]
  },
  {
   "cell_type": "markdown",
   "id": "f69b2b28",
   "metadata": {},
   "source": [
    "***"
   ]
  },
  {
   "cell_type": "markdown",
   "id": "30df1f32",
   "metadata": {},
   "source": [
    "**6. Write a Python program to find N largest elements from a list?**"
   ]
  },
  {
   "cell_type": "code",
   "execution_count": 6,
   "id": "e6ea6d95",
   "metadata": {},
   "outputs": [
    {
     "name": "stdout",
     "output_type": "stream",
     "text": [
      " Please enter the list of elements: \n",
      "3 6 9 6 9 3 10 16 18 20\n",
      " Please enter the value of n (n-th largest element) between 1 and 7: 4\n",
      "\n",
      "4-th largest number in the given list is: 10\n"
     ]
    }
   ],
   "source": [
    "try:\n",
    "    print(\" Please enter the list of elements: \")\n",
    "    my_list = list(map(int, input().split()))\n",
    "    limit = len(set(my_list))\n",
    "    n = int(input(f\" Please enter the value of n (n-th largest element) between 1 and {limit}: \"))\n",
    "    result = sorted(list(set(my_list)), reverse=True)[n-1]\n",
    "except ValueError as err1:\n",
    "    print(f\"{err1}. Please enter only integer values\")\n",
    "except IndexError as err2:\n",
    "    print(f\"{err2}. Maximum allowed value for n is: {limit}\")\n",
    "else:\n",
    "    print(f\"\\n{n}-th largest number in the given list is: {result}\")\n"
   ]
  },
  {
   "cell_type": "markdown",
   "id": "4011d58a",
   "metadata": {},
   "source": [
    "***"
   ]
  },
  {
   "cell_type": "markdown",
   "id": "8d9487da",
   "metadata": {},
   "source": [
    "**7. Write a Python program to print even numbers in a list?**"
   ]
  },
  {
   "cell_type": "code",
   "execution_count": 7,
   "id": "a909162b",
   "metadata": {},
   "outputs": [
    {
     "name": "stdout",
     "output_type": "stream",
     "text": [
      " Please enter the list of elements: \n",
      "3 6 9 6 9 3 10 16 18 20\n",
      "\n",
      "Even numbers in the given list is: [6, 6, 10, 16, 18, 20]\n"
     ]
    }
   ],
   "source": [
    "try:\n",
    "    print(\" Please enter the list of elements: \")\n",
    "    my_list = list(map(int, input().split()))\n",
    "except ValueError as err:\n",
    "    print(f\"{err}. Please enter only integer values\")\n",
    "else:\n",
    "    result = [x for x in my_list if x%2 == 0]\n",
    "    print(f\"\\nEven numbers in the given list is: {result}\")\n"
   ]
  },
  {
   "cell_type": "markdown",
   "id": "2e35cfd6",
   "metadata": {},
   "source": [
    "***"
   ]
  },
  {
   "cell_type": "markdown",
   "id": "74fd4411",
   "metadata": {},
   "source": [
    "**8. Write a Python program to print odd numbers in a List?**"
   ]
  },
  {
   "cell_type": "code",
   "execution_count": 8,
   "id": "746fc7ae",
   "metadata": {},
   "outputs": [
    {
     "name": "stdout",
     "output_type": "stream",
     "text": [
      " Please enter the list of elements: \n",
      "3 6 9 6 9 3 10 16 18 20\n",
      "\n",
      "Odd numbers in the given list is: [3, 9, 9, 3]\n"
     ]
    }
   ],
   "source": [
    "try:\n",
    "    print(\" Please enter the list of elements: \")\n",
    "    my_list = list(map(int, input().split()))\n",
    "except ValueError as err:\n",
    "    print(f\"{err}. Please enter only integer values\")\n",
    "else:\n",
    "    result = [x for x in my_list if x%2 != 0]\n",
    "    print(f\"\\nOdd numbers in the given list is: {result}\")\n"
   ]
  },
  {
   "cell_type": "markdown",
   "id": "9dc423ed",
   "metadata": {},
   "source": [
    "***"
   ]
  },
  {
   "cell_type": "markdown",
   "id": "7312604e",
   "metadata": {},
   "source": [
    "**9. Write a Python program to Remove empty List from List?**"
   ]
  },
  {
   "cell_type": "code",
   "execution_count": 41,
   "id": "e5d8d08a",
   "metadata": {},
   "outputs": [
    {
     "name": "stdout",
     "output_type": "stream",
     "text": [
      " Please enter the list of elements: \n",
      "text1, [], [], [], text2, [], Text3\n",
      "\n",
      "List after empty list removal : ['text1', 'text2', 'Text3']\n",
      "*** END ***\n"
     ]
    }
   ],
   "source": [
    "try:\n",
    "    print(\" Please enter the list of elements: \")\n",
    "    my_list = [i for i in input().split(\", \")]\n",
    "    result = [x for x in my_list if x != '[]']\n",
    "except Exception as err:\n",
    "    print(err)\n",
    "else:\n",
    "    print(f\"\\nList after empty list removal : {result}\")\n",
    "finally:\n",
    "    print(\"*** END ***\")"
   ]
  },
  {
   "cell_type": "markdown",
   "id": "8f680373",
   "metadata": {},
   "source": [
    "***"
   ]
  },
  {
   "cell_type": "markdown",
   "id": "adfa00be",
   "metadata": {},
   "source": [
    "**10. Write a Python program to Cloning or Copying a list?**"
   ]
  },
  {
   "cell_type": "code",
   "execution_count": 9,
   "id": "6e3d9843",
   "metadata": {},
   "outputs": [
    {
     "name": "stdout",
     "output_type": "stream",
     "text": [
      " Please enter the list of elements: \n",
      "4 6 3 9 16 18 20\n",
      "\n",
      "Copied list is: [4, 6, 3, 9, 16, 18, 20]\n"
     ]
    }
   ],
   "source": [
    "try:\n",
    "    print(\" Please enter the list of elements: \")\n",
    "    my_list = list(map(int, input().split()))\n",
    "except ValueError as err:\n",
    "    print(f\"{err}. Please enter only integer values\")\n",
    "else:\n",
    "    new_list = my_list.copy()\n",
    "    print(f\"\\nCopied list is: {new_list}\")\n"
   ]
  },
  {
   "cell_type": "markdown",
   "id": "214c17e5",
   "metadata": {},
   "source": [
    "***"
   ]
  },
  {
   "cell_type": "markdown",
   "id": "ea4fa8bb",
   "metadata": {},
   "source": [
    "**11. Write a Python program to Count occurrences of an element in a list?**"
   ]
  },
  {
   "cell_type": "code",
   "execution_count": 11,
   "id": "0e03c07b",
   "metadata": {},
   "outputs": [
    {
     "name": "stdout",
     "output_type": "stream",
     "text": [
      " Please enter the list of elements: \n",
      "2 5 3 6 9 3 12 3 18 20 3\n",
      " Enter the number to find it's occurance(s): 2\n",
      "\n",
      "The element 2 is appearing 1 times in the list.\n"
     ]
    }
   ],
   "source": [
    "try:\n",
    "    print(\" Please enter the list of elements: \")\n",
    "    my_list = list(map(int, input().split()))\n",
    "    n = int(input(\" Enter the number to find it's occurance(s): \"))\n",
    "except ValueError as err:\n",
    "    print(f\"{err}. Please enter only integer values\")\n",
    "else:\n",
    "    if n in my_list:\n",
    "        result = my_list.count(n)\n",
    "        print(f\"\\nThe element {n} is appearing {result} times in the list.\")\n",
    "    else:\n",
    "        print(f\"\\nThe element {n} is not available in the given list\")\n"
   ]
  },
  {
   "cell_type": "markdown",
   "id": "ed1a4086",
   "metadata": {},
   "source": [
    "***"
   ]
  }
 ],
 "metadata": {
  "kernelspec": {
   "display_name": "Python 3 (ipykernel)",
   "language": "python",
   "name": "python3"
  },
  "language_info": {
   "codemirror_mode": {
    "name": "ipython",
    "version": 3
   },
   "file_extension": ".py",
   "mimetype": "text/x-python",
   "name": "python",
   "nbconvert_exporter": "python",
   "pygments_lexer": "ipython3",
   "version": "3.9.13"
  }
 },
 "nbformat": 4,
 "nbformat_minor": 5
}
