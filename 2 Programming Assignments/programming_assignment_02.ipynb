{
 "cells": [
  {
   "cell_type": "markdown",
   "id": "723bfe0b",
   "metadata": {},
   "source": [
    "### 1. Write a Python program to convert kilometers to miles?"
   ]
  },
  {
   "cell_type": "code",
   "execution_count": 1,
   "id": "fd3e59d5",
   "metadata": {},
   "outputs": [
    {
     "name": "stdout",
     "output_type": "stream",
     "text": [
      "miles is  3.106855\n"
     ]
    }
   ],
   "source": [
    "kilo=5\n",
    "miles=kilo*0.621371\n",
    "\n",
    "print(\"miles is \", miles)"
   ]
  },
  {
   "cell_type": "markdown",
   "id": "596515aa",
   "metadata": {},
   "source": [
    "### 2. Write a Python program to convert Celsius to Fahrenheit?"
   ]
  },
  {
   "cell_type": "code",
   "execution_count": 3,
   "id": "3849923d",
   "metadata": {},
   "outputs": [
    {
     "name": "stdout",
     "output_type": "stream",
     "text": [
      "Fahrenhiet is :  50.0\n"
     ]
    }
   ],
   "source": [
    "celsius=10\n",
    "fahrenheit=(celsius*9/5)+32\n",
    "\n",
    "print(\"Fahrenhiet is : \", fahrenheit)"
   ]
  },
  {
   "cell_type": "markdown",
   "id": "dcfead15",
   "metadata": {},
   "source": [
    "###  3. Write a Python program to display calendar?\n"
   ]
  },
  {
   "cell_type": "code",
   "execution_count": 6,
   "id": "7dab2cf6",
   "metadata": {},
   "outputs": [
    {
     "name": "stdout",
     "output_type": "stream",
     "text": [
      "    January 2023\n",
      "Mo Tu We Th Fr Sa Su\n",
      "                   1\n",
      " 2  3  4  5  6  7  8\n",
      " 9 10 11 12 13 14 15\n",
      "16 17 18 19 20 21 22\n",
      "23 24 25 26 27 28 29\n",
      "30 31\n",
      "\n"
     ]
    }
   ],
   "source": [
    "import calendar\n",
    "\n",
    "year= 2023\n",
    "month= 1\n",
    "\n",
    "print(calendar.month(year, month))"
   ]
  },
  {
   "cell_type": "markdown",
   "id": "a329ba99",
   "metadata": {},
   "source": [
    "### 4. Write a Python program to solve quadratic equation?"
   ]
  },
  {
   "cell_type": "code",
   "execution_count": 9,
   "id": "8016b2eb",
   "metadata": {},
   "outputs": [
    {
     "name": "stdout",
     "output_type": "stream",
     "text": [
      "the roots are  -4.75 -5.25\n"
     ]
    }
   ],
   "source": [
    "import math\n",
    "a=2\n",
    "b=5\n",
    "c=3\n",
    "\n",
    "root1=-b+math.sqrt(b*b-4*a*c)/(2*a)\n",
    "root2=-b-math.sqrt(b*b-4*a*c)/(2*a)\n",
    "\n",
    "print(\"the roots are \",root1,root2)"
   ]
  },
  {
   "cell_type": "markdown",
   "id": "80fe56e2",
   "metadata": {},
   "source": [
    "### 5. Write a Python program to swap two variables without temp variable?"
   ]
  },
  {
   "cell_type": "code",
   "execution_count": 11,
   "id": "37404872",
   "metadata": {},
   "outputs": [
    {
     "name": "stdout",
     "output_type": "stream",
     "text": [
      "a = 20\n",
      "b = 10\n"
     ]
    }
   ],
   "source": [
    "a=10\n",
    "b=20\n",
    "\n",
    "a,b=b,a\n",
    "\n",
    "print(f\"a = {a}\\nb = {b}\")"
   ]
  }
 ],
 "metadata": {
  "kernelspec": {
   "display_name": "Python 3 (ipykernel)",
   "language": "python",
   "name": "python3"
  },
  "language_info": {
   "codemirror_mode": {
    "name": "ipython",
    "version": 3
   },
   "file_extension": ".py",
   "mimetype": "text/x-python",
   "name": "python",
   "nbconvert_exporter": "python",
   "pygments_lexer": "ipython3",
   "version": "3.9.13"
  }
 },
 "nbformat": 4,
 "nbformat_minor": 5
}
