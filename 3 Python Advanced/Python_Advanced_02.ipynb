{
 "cells": [
  {
   "cell_type": "markdown",
   "metadata": {
    "id": "gxar1CEx1XIk"
   },
   "source": [
    "**Q1. What is the relationship between classes and modules?**"
   ]
  },
  {
   "cell_type": "markdown",
   "metadata": {
    "id": "6KlKN0UR1lTy"
   },
   "source": [
    "Classes are blueprints that allow you to create instances with attributes and bound functionality. Classes support inheritance, Encapsulation techniques.\n",
    "\n",
    "A module in python is simply a way to organize the code, and it contains either python classes or just functions. If you need those classes or functions in your project, you just import them"
   ]
  },
  {
   "cell_type": "markdown",
   "metadata": {
    "id": "kef9t7Vn2Ba6"
   },
   "source": [
    "**Q2. How do you make instances and classes?**"
   ]
  },
  {
   "cell_type": "markdown",
   "metadata": {
    "id": "GAJcvF7I2FVC"
   },
   "source": [
    "To create instances of a class, you call the class using class name and pass in whatever arguments its \\_\\_init_\\_ method accepts."
   ]
  },
  {
   "cell_type": "markdown",
   "metadata": {
    "id": "wMxe5NU82r3B"
   },
   "source": [
    "**Q3. Where and how should be class attributes created?**"
   ]
  },
  {
   "cell_type": "markdown",
   "metadata": {
    "id": "pF0UrHQY2rtZ"
   },
   "source": [
    "Class attributes belong to the class itself they will be shared by all the instances. Such attributes are defined in the class body parts usually at the top"
   ]
  },
  {
   "cell_type": "markdown",
   "metadata": {
    "id": "VPBtL1g724Lp"
   },
   "source": [
    "**Q4. Where and how are instance attributes created?**"
   ]
  },
  {
   "cell_type": "markdown",
   "metadata": {
    "id": "ypIfuc7823_x"
   },
   "source": [
    "An instance attribute is a Python variable belonging to one, and only one, object. This variable is only accessible in the scope of this object and it is defined inside the constructor function, \\_\\_init_\\_(self,..) of the class"
   ]
  },
  {
   "cell_type": "markdown",
   "metadata": {
    "id": "GwbI7q703G8i"
   },
   "source": [
    "**Q5. What does the term &quot;self&quot; in a Python class mean?**"
   ]
  },
  {
   "cell_type": "markdown",
   "metadata": {
    "id": "gZ7OkSa93Hyp"
   },
   "source": [
    "self represents the instance of the class. By using the “self” we can access the attributes and methods of the class in python. It binds the attributes with the given arguments."
   ]
  },
  {
   "cell_type": "markdown",
   "metadata": {
    "id": "wXaI1yW43gHR"
   },
   "source": [
    "**Q6. How does a Python class handle operator overloading?**"
   ]
  },
  {
   "cell_type": "markdown",
   "metadata": {
    "id": "91Pi0sTU3gAe"
   },
   "source": [
    "To perform operator overloading, Python provides some special function or magic function that is automatically invoked when it is associated with that particular operator. For example, when we use + operator, the magic method \\_\\_add_\\_ is automatically invoked in which the operation for + operator is defined."
   ]
  },
  {
   "cell_type": "markdown",
   "metadata": {
    "id": "TnbRG3Rs3ziu"
   },
   "source": [
    "**Q7. When do you consider allowing operator overloading of your classes?**"
   ]
  },
  {
   "cell_type": "markdown",
   "metadata": {
    "id": "z5pzWFK332Ss"
   },
   "source": [
    "Consider that we have two objects which are a physical representation of a class (user-defined data type) and we have to add two objects with binary '+' operator it throws an error, because compiler don't know how to add two objects. so we have to use operator overloading"
   ]
  },
  {
   "cell_type": "markdown",
   "metadata": {
    "id": "ehlnPENj4Jr0"
   },
   "source": [
    "**Q8. What is the most popular form of operator overloading?**"
   ]
  },
  {
   "cell_type": "markdown",
   "metadata": {
    "id": "1b9ypCLe4Jj0"
   },
   "source": [
    "A very popular and convenient example is the Addition (+) operator. "
   ]
  },
  {
   "cell_type": "markdown",
   "metadata": {
    "id": "LlXyx3Kj4YYr"
   },
   "source": [
    "**Q9. What are the two most important concepts to grasp in order to comprehend Python OOP code?**"
   ]
  },
  {
   "cell_type": "markdown",
   "metadata": {
    "id": "nBuDtAUS4YWV"
   },
   "source": [
    "inheritance and polymorphism are key ingredients for designing robust, flexible, and easy-to-maintain software"
   ]
  },
  {
   "cell_type": "code",
   "execution_count": null,
   "metadata": {
    "id": "GQLpDo6T0Ifh"
   },
   "outputs": [],
   "source": []
  }
 ],
 "metadata": {
  "colab": {
   "collapsed_sections": [],
   "name": "Advanced_Assignment_2.ipynb",
   "provenance": []
  },
  "kernelspec": {
   "display_name": "Python 3 (ipykernel)",
   "language": "python",
   "name": "python3"
  },
  "language_info": {
   "codemirror_mode": {
    "name": "ipython",
    "version": 3
   },
   "file_extension": ".py",
   "mimetype": "text/x-python",
   "name": "python",
   "nbconvert_exporter": "python",
   "pygments_lexer": "ipython3",
   "version": "3.9.13"
  }
 },
 "nbformat": 4,
 "nbformat_minor": 1
}
