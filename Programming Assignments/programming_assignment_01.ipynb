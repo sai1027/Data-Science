{
 "cells": [
  {
   "cell_type": "code",
   "execution_count": 3,
   "id": "261443d2",
   "metadata": {},
   "outputs": [
    {
     "name": "stdout",
     "output_type": "stream",
     "text": [
      "Hello python\n"
     ]
    }
   ],
   "source": [
    "# 1. Write a Python program to print \"hello python\"\n",
    "\n",
    "\n",
    "print(\"Hello python\")"
   ]
  },
  {
   "cell_type": "code",
   "execution_count": 4,
   "id": "74289778",
   "metadata": {},
   "outputs": [
    {
     "name": "stdout",
     "output_type": "stream",
     "text": [
      "addition  15\n",
      "division  2.0\n"
     ]
    }
   ],
   "source": [
    "# 2. Write a Python program to do arithmetical operations addition and division.?\n",
    "\n",
    "a=10\n",
    "b=5\n",
    "\n",
    "sum=a+b\n",
    "div=a/b\n",
    "\n",
    "print('addition ', sum)\n",
    "print(\"division \", div )\n"
   ]
  },
  {
   "cell_type": "code",
   "execution_count": 5,
   "id": "ddcc6a1a",
   "metadata": {},
   "outputs": [
    {
     "name": "stdout",
     "output_type": "stream",
     "text": [
      "area of triangle is :  25.0\n"
     ]
    }
   ],
   "source": [
    "# 3. Write a Python program to find the area of a triangle?\n",
    "\n",
    "base=10\n",
    "height=5\n",
    "\n",
    "area=0.5*base*height\n",
    "\n",
    "print(\"area of triangle is : \", area)"
   ]
  },
  {
   "cell_type": "code",
   "execution_count": 13,
   "id": "5c398944",
   "metadata": {},
   "outputs": [
    {
     "name": "stdout",
     "output_type": "stream",
     "text": [
      "a= 5\n",
      "b= 10\n"
     ]
    }
   ],
   "source": [
    "# 4. Write a Python program to swap two variables?\n",
    "\n",
    "a=10\n",
    "b=5\n",
    "\n",
    "a,b=b,a\n",
    "\n",
    "print(f\"a= {a}\\nb= {b}\")"
   ]
  },
  {
   "cell_type": "code",
   "execution_count": 17,
   "id": "22f6c3ea",
   "metadata": {},
   "outputs": [
    {
     "name": "stdout",
     "output_type": "stream",
     "text": [
      "13\n"
     ]
    }
   ],
   "source": [
    "# 5. Write a Python program to generate a random number?\n",
    "\n",
    "import random \n",
    "\n",
    "num=random.randint(10,20)\n",
    "print(num)"
   ]
  },
  {
   "cell_type": "code",
   "execution_count": null,
   "id": "21bbd527",
   "metadata": {},
   "outputs": [],
   "source": []
  }
 ],
 "metadata": {
  "kernelspec": {
   "display_name": "Python 3 (ipykernel)",
   "language": "python",
   "name": "python3"
  },
  "language_info": {
   "codemirror_mode": {
    "name": "ipython",
    "version": 3
   },
   "file_extension": ".py",
   "mimetype": "text/x-python",
   "name": "python",
   "nbconvert_exporter": "python",
   "pygments_lexer": "ipython3",
   "version": "3.9.13"
  }
 },
 "nbformat": 4,
 "nbformat_minor": 5
}
