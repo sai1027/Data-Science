{
 "cells": [
  {
   "cell_type": "code",
   "execution_count": 2,
   "id": "75cfbf17",
   "metadata": {},
   "outputs": [
    {
     "data": {
      "text/plain": [
       "6"
      ]
     },
     "execution_count": 2,
     "metadata": {},
     "output_type": "execute_result"
    }
   ],
   "source": [
    "# 1. Write a Python Program to Find the Factorial of a Number?\n",
    "\n",
    "def fac(a):\n",
    "    factorial=1\n",
    "    for i in range(1,a+1):\n",
    "        factorial=factorial*i\n",
    "    \n",
    "    return factorial\n",
    "\n",
    "\n",
    "fac(3)\n",
    "        "
   ]
  },
  {
   "cell_type": "code",
   "execution_count": 4,
   "id": "377660f9",
   "metadata": {},
   "outputs": [
    {
     "name": "stdout",
     "output_type": "stream",
     "text": [
      "5 * 1 = 5\n",
      "5 * 2 = 10\n",
      "5 * 3 = 15\n",
      "5 * 4 = 20\n",
      "5 * 5 = 25\n",
      "5 * 6 = 30\n",
      "5 * 7 = 35\n",
      "5 * 8 = 40\n",
      "5 * 9 = 45\n",
      "5 * 10 = 50\n"
     ]
    }
   ],
   "source": [
    "# 2. Write a Python Program to Display the multiplication Table?\n",
    "\n",
    "def tab(a):\n",
    "    for i in range(1,11):\n",
    "        print(f\"{a} * {i} = {a*i}\")\n",
    "\n",
    "tab(5)"
   ]
  },
  {
   "cell_type": "code",
   "execution_count": 11,
   "id": "24a0c3d7",
   "metadata": {},
   "outputs": [
    {
     "name": "stdout",
     "output_type": "stream",
     "text": [
      "0\n",
      "1\n",
      "1\n",
      "2\n",
      "3\n",
      "5\n",
      "8\n",
      "13\n",
      "21\n"
     ]
    }
   ],
   "source": [
    "# 3. Write a Python Program to Print the Fibonacci sequence?\n",
    "\n",
    "def fib(x):\n",
    "    a=0\n",
    "    b=1\n",
    "    for i in range(x-1):\n",
    "        print(a)\n",
    "        sum = a + b\n",
    "       # update values\n",
    "        a =b\n",
    "        b = sum\n",
    "        \n",
    "    \n",
    "fib(10) "
   ]
  },
  {
   "cell_type": "code",
   "execution_count": 6,
   "id": "f96ef246",
   "metadata": {},
   "outputs": [
    {
     "name": "stdout",
     "output_type": "stream",
     "text": [
      "it is armstrong number\n"
     ]
    }
   ],
   "source": [
    "# 4. Write a Python Program to Check Armstrong Number?\n",
    "\n",
    "def arm(x):\n",
    "    sum=0\n",
    "    temp=x\n",
    "    power=len(str(x))\n",
    "    \n",
    "    while temp>0:\n",
    "        digit=temp%10\n",
    "        sum+=digit**power\n",
    "        temp=temp//10\n",
    "    \n",
    "    if sum==x:\n",
    "        print(\"it is armstrong number\")\n",
    "        \n",
    "    else:\n",
    "        print(\"not a armstrong number\")\n",
    "    \n",
    "    \n",
    "arm(407)"
   ]
  },
  {
   "cell_type": "code",
   "execution_count": 8,
   "id": "9039c578",
   "metadata": {},
   "outputs": [
    {
     "name": "stdout",
     "output_type": "stream",
     "text": [
      "153\n",
      "370\n",
      "371\n",
      "407\n"
     ]
    }
   ],
   "source": [
    "# 5. Write a Python Program to Find Armstrong Number in an Interval?\n",
    "\n",
    "def armnum(lower, upper):\n",
    "    for num in range(lower, upper + 1):\n",
    "\n",
    "       # order of number\n",
    "       order = len(str(num))\n",
    "\n",
    "       # initialize sum\n",
    "       sum = 0\n",
    "\n",
    "       temp = num\n",
    "       while temp > 0:\n",
    "           digit = temp % 10\n",
    "           sum += digit ** order\n",
    "           temp //= 10\n",
    "\n",
    "       if num == sum:\n",
    "           print(num)\n",
    "            \n",
    "armnum(100,500)\n"
   ]
  },
  {
   "cell_type": "code",
   "execution_count": 7,
   "id": "cd049667",
   "metadata": {},
   "outputs": [
    {
     "data": {
      "text/plain": [
       "55.0"
      ]
     },
     "execution_count": 7,
     "metadata": {},
     "output_type": "execute_result"
    }
   ],
   "source": [
    "# 6. Write a Python Program to Find the Sum of Natural Numbers?\n",
    "\n",
    "def sum(n):\n",
    "    total=n*(n+1)/2\n",
    "    return total\n",
    "\n",
    "sum(10)"
   ]
  },
  {
   "cell_type": "code",
   "execution_count": null,
   "id": "508b2523",
   "metadata": {},
   "outputs": [],
   "source": []
  },
  {
   "cell_type": "code",
   "execution_count": null,
   "id": "1394ae52",
   "metadata": {},
   "outputs": [],
   "source": []
  },
  {
   "cell_type": "code",
   "execution_count": null,
   "id": "468cb05f",
   "metadata": {},
   "outputs": [],
   "source": []
  },
  {
   "cell_type": "code",
   "execution_count": null,
   "id": "5424f3b1",
   "metadata": {},
   "outputs": [],
   "source": []
  }
 ],
 "metadata": {
  "kernelspec": {
   "display_name": "Python 3 (ipykernel)",
   "language": "python",
   "name": "python3"
  },
  "language_info": {
   "codemirror_mode": {
    "name": "ipython",
    "version": 3
   },
   "file_extension": ".py",
   "mimetype": "text/x-python",
   "name": "python",
   "nbconvert_exporter": "python",
   "pygments_lexer": "ipython3",
   "version": "3.9.13"
  }
 },
 "nbformat": 4,
 "nbformat_minor": 5
}
