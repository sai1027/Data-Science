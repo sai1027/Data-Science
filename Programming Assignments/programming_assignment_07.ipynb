{
 "cells": [
  {
   "cell_type": "code",
   "execution_count": 11,
   "id": "1d42f578",
   "metadata": {},
   "outputs": [
    {
     "name": "stdout",
     "output_type": "stream",
     "text": [
      "Sum of array is :  15\n"
     ]
    }
   ],
   "source": [
    "# 1. Write a Python Program to find sum of array?\n",
    "a=[1,2,3,4,5]\n",
    "sum=0\n",
    "for i in a:\n",
    "    sum+=i\n",
    "    \n",
    "print(\"Sum of array is : \",sum)"
   ]
  },
  {
   "cell_type": "code",
   "execution_count": 16,
   "id": "e9de86e4",
   "metadata": {},
   "outputs": [
    {
     "name": "stdout",
     "output_type": "stream",
     "text": [
      "Maximun number in the array is :  75\n"
     ]
    }
   ],
   "source": [
    "# 2. Write a Python Program to find largest element in an array?\n",
    "\n",
    "a=[1,43,5,2,5,75,7]\n",
    "print(\"Maximun number in the array is : \",max(a))"
   ]
  },
  {
   "cell_type": "code",
   "execution_count": 19,
   "id": "f9f4ed79",
   "metadata": {},
   "outputs": [
    {
     "name": "stdout",
     "output_type": "stream",
     "text": [
      "[4, 5, 1, 2, 3]\n"
     ]
    }
   ],
   "source": [
    "# 3. Write a Python Program for array rotation?\n",
    "\n",
    "def rotate_array(arr, k):\n",
    "    \n",
    "    return arr[-k:] + arr[:-k]\n",
    "\n",
    "# Test the function\n",
    "arr = [1, 2, 3, 4, 5]\n",
    "print(rotate_array(arr, 2)) "
   ]
  },
  {
   "cell_type": "code",
   "execution_count": 21,
   "id": "3d6e616b",
   "metadata": {},
   "outputs": [
    {
     "name": "stdout",
     "output_type": "stream",
     "text": [
      "New array is :  [7, 53, 12, 1, 2, 4, 56]\n"
     ]
    }
   ],
   "source": [
    "# 4. Write a Python Program to Split the array and add the first part to the end?\n",
    "\n",
    "a=[1,2,4,56,7,53,12]\n",
    "\n",
    "a1=a[:4]\n",
    "a2=a[4:]\n",
    "\n",
    "a3=a2+a1\n",
    "print(\"New array is : \", a3)"
   ]
  },
  {
   "cell_type": "code",
   "execution_count": 22,
   "id": "90f23742",
   "metadata": {},
   "outputs": [
    {
     "name": "stdout",
     "output_type": "stream",
     "text": [
      "False\n"
     ]
    }
   ],
   "source": [
    "# 5. Write a Python Program to check if given array is Monotonic?\n",
    "\n",
    "def is_monotonic(arr):\n",
    "    if len(arr) <= 1:\n",
    "        return True\n",
    "    else:\n",
    "        direction = arr[1] - arr[0]\n",
    "        for i in range(2, len(arr)):\n",
    "            if direction == 0:\n",
    "                direction = arr[i] - arr[i - 1]\n",
    "                continue\n",
    "            elif (direction > 0 and arr[i] < arr[i - 1]) or (direction < 0 and arr[i] > arr[i - 1]):\n",
    "                return False\n",
    "        return True\n",
    "\n",
    "\n",
    "print(is_monotonic([1, 2, 3, 4, 5, 4])) \n"
   ]
  },
  {
   "cell_type": "code",
   "execution_count": null,
   "id": "16f81434",
   "metadata": {},
   "outputs": [],
   "source": []
  },
  {
   "cell_type": "code",
   "execution_count": null,
   "id": "846329d2",
   "metadata": {},
   "outputs": [],
   "source": []
  },
  {
   "cell_type": "code",
   "execution_count": null,
   "id": "e65339ec",
   "metadata": {},
   "outputs": [],
   "source": []
  }
 ],
 "metadata": {
  "kernelspec": {
   "display_name": "Python 3 (ipykernel)",
   "language": "python",
   "name": "python3"
  },
  "language_info": {
   "codemirror_mode": {
    "name": "ipython",
    "version": 3
   },
   "file_extension": ".py",
   "mimetype": "text/x-python",
   "name": "python",
   "nbconvert_exporter": "python",
   "pygments_lexer": "ipython3",
   "version": "3.9.13"
  }
 },
 "nbformat": 4,
 "nbformat_minor": 5
}
