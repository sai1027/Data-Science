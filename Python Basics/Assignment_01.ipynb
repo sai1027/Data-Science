{
 "cells": [
  {
   "cell_type": "markdown",
   "id": "862e418d-85aa-4d46-b2cc-74c2fdcd30d9",
   "metadata": {},
   "source": [
    "1. In the below elements which of them are values or an expression? eg:- values can be integer or string and expressions will be mathematical operators.\n",
    "\n",
    "\n",
    "A:\n",
    "\n",
    "1.values: \n",
    "'hello'\n",
    "6\n",
    "\n",
    "2.expressions:\n",
    "* - / + "
   ]
  },
  {
   "cell_type": "markdown",
   "id": "d4b5f592-3b02-49d3-baf3-0a228ada8e19",
   "metadata": {},
   "source": [
    "2. What is the difference between string and variable?\n",
    "\n",
    "A:\n",
    "\n",
    "-variable is the datatype name which we use for storing some data.\n",
    "-string is a type of data which we store in variable.\n"
   ]
  },
  {
   "cell_type": "markdown",
   "id": "d93f2b10-afb3-4b69-b0b2-7c292c9f7655",
   "metadata": {},
   "source": [
    "3. Describe three different data types.\n",
    "\n",
    "A:\n",
    "\n",
    "1.string\n",
    "string is a combination of letters which we store in python variable.\n",
    "eg: a=\"hello\"\n",
    "\n",
    "2.list\n",
    "list is like arry which stores different data types in it and it can be iterable.\n",
    "eg: arr=[23,'ineuron', 'A',34.45]\n",
    "\n",
    "3.Boolean \n",
    "booles stores true or false \n"
   ]
  },
  {
   "cell_type": "markdown",
   "id": "21bebfca-97d1-479f-8ffb-240fa37c2b27",
   "metadata": {},
   "source": [
    "4. What is an expression made up of? What do all expressions do?\n",
    "\n",
    "A:\n",
    "\n",
    "Expression is a combination of variabels,functions,operarors and assignments.\n",
    "They give the desired output.Every expression have certain task and limits.\n",
    "\n",
    "eg:\n",
    "a=10\n",
    "b=2\n",
    "print(a/b)"
   ]
  },
  {
   "cell_type": "markdown",
   "id": "86ce326f-3f36-404c-8066-41da5eb01a2d",
   "metadata": {},
   "source": [
    "5. This assignment statements, like spam = 10. What is the difference between an expression and a statement?\n",
    "\n",
    "A:\n",
    "\n",
    "Statment is a simple assignment or declaration.\n",
    "Eg: \n",
    "a=\"hello world\"\n",
    "\n",
    "Expression is complex statment which have variables, functions, operators.\n",
    "eg:\n",
    "a=10\n",
    "b=2\n",
    "print(a/b)\n"
   ]
  },
  {
   "cell_type": "markdown",
   "id": "16cd4beb-4075-487c-a4be-77b7723e9624",
   "metadata": {},
   "source": [
    "6. After running the following code, what does the variable bacon contain?\n",
    "bacon = 22\n",
    "bacon + 1\n",
    "\n",
    "A:\n",
    "bacon will contain 22. because the value of bacon is not cjhanged.\n"
   ]
  },
  {
   "cell_type": "markdown",
   "id": "74068765-2969-4dd0-b5ed-806059c8e4f8",
   "metadata": {},
   "source": [
    "7. What should the values of the following two terms be?\n",
    "'spam' + 'spamspam'\n",
    "'spam' * 3\n",
    "\n",
    "\n",
    "A:\n",
    "'spamspamspam'\n",
    "'spamspamspam'"
   ]
  },
  {
   "cell_type": "markdown",
   "id": "4aeb50c6-1101-4e96-81ee-1414dd3b7aa2",
   "metadata": {},
   "source": [
    "8. Why is eggs a valid variable name while 100 is invalid?\n",
    "\n",
    "A:\n",
    "A variable name should not start with numerics, symbols, operators and keywords."
   ]
  },
  {
   "cell_type": "markdown",
   "id": "22452392-3053-4225-8f20-159967217b9f",
   "metadata": {},
   "source": [
    "9. What three functions can be used to get the integer, floating-point number, or string version of a value?\n",
    "\n",
    "A:\n",
    "1.To get a string we use int() function.\n",
    "2.TO get float we use float() function.\n",
    "3.To get string we use str() function."
   ]
  },
  {
   "cell_type": "markdown",
   "id": "23125eb7-b5b1-4bda-a6a6-6417d1e8b566",
   "metadata": {},
   "source": [
    "10. Why does this expression cause an error? How can you fix it?\n",
    "'I have eaten ' + 99 + ' burritos.'\n",
    "\n",
    "A:\n",
    "we can typecast numeric to string.\n",
    "'I have eaten ' + str(99) + ' burritos."
   ]
  }
 ],
 "metadata": {
  "kernelspec": {
   "display_name": "Python 3 (ipykernel)",
   "language": "python",
   "name": "python3"
  },
  "language_info": {
   "codemirror_mode": {
    "name": "ipython",
    "version": 3
   },
   "file_extension": ".py",
   "mimetype": "text/x-python",
   "name": "python",
   "nbconvert_exporter": "python",
   "pygments_lexer": "ipython3",
   "version": "3.10.6"
  }
 },
 "nbformat": 4,
 "nbformat_minor": 5
}
