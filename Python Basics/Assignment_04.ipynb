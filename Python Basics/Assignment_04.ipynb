{
 "cells": [
  {
   "cell_type": "markdown",
   "id": "256a4ff0-027e-41ac-bc80-bec9fab06453",
   "metadata": {},
   "source": [
    "### 1. What exactly is []?\n",
    "A: It represent list data type. And also used in assigning values in dictionary.\n",
    "\n",
    "Eg: \n",
    "```python\n",
    "arr=[1,2,3]\n",
    "\n",
    "a={1:\"one\",2:\"two\"}\n",
    "\n",
    "a[1]\n",
    "\n",
    "```"
   ]
  },
  {
   "cell_type": "markdown",
   "id": "332df685-0ac6-4047-9faf-284156997074",
   "metadata": {},
   "source": [
    "### 2. In a list of values stored in a variable called spam, how would you assign the value 'hello' as the third value? (Assume [2,4,6,8,10] are in spam.)\n",
    "\n",
    "A:\n",
    "It can be achieved using 2 ways.\n",
    "\n",
    "``` python\n",
    "spam[2] = \"hello\"\n",
    "\n",
    "spam.insert(2, \"hello\")\n",
    "```"
   ]
  },
  {
   "cell_type": "markdown",
   "id": "2b0fcaee-f381-4059-a02c-99371d77992b",
   "metadata": {},
   "source": [
    "### 3. What is the value of spam[int(int('3' * 2) / 11)]?\n",
    "\n",
    "A: '3'*2 represents 33. Diving this number with 11 will give 3.0 which then will be type casted with int(). So the final results would be spam[3]\n"
   ]
  },
  {
   "cell_type": "markdown",
   "id": "ab99b0b0-66da-4f32-bc1f-896384554ac3",
   "metadata": {},
   "source": [
    "### 4. What is the value of spam[-1]?\n",
    "\n",
    "A: consider spam[1,2,3]\n",
    "spam[-1]=3"
   ]
  },
  {
   "cell_type": "markdown",
   "id": "8108fa34-8ed6-4eb5-88af-fc9721c74b0a",
   "metadata": {},
   "source": [
    "### 5. What is the value of spam[:2]?\n",
    "\n",
    "A: spam[1,2,3,4,5]\n",
    "\n",
    "spam[:2]\n",
    "\n",
    "will give result 1,2"
   ]
  },
  {
   "cell_type": "markdown",
   "id": "5fa15c67-77eb-4ea1-8163-14903721c062",
   "metadata": {},
   "source": [
    "### 6. What is the value of bacon.index('cat')?\n",
    "\n",
    "A:\n",
    "bacon=[1,23.2,'cat']\n",
    "\n",
    "bacon.index('cat') will result 2"
   ]
  },
  {
   "cell_type": "markdown",
   "id": "dfd4f277-19a4-4c31-a62f-b7a28108ebf6",
   "metadata": {},
   "source": [
    "### 7. How does bacon.append(99) change the look of the list value in bacon?\n",
    "\n",
    "A: [1,23.2,'cat',99]"
   ]
  },
  {
   "cell_type": "markdown",
   "id": "60b833fb-abc1-48ac-85e3-92497816ab13",
   "metadata": {},
   "source": [
    "### 8. How does bacon.remove('cat') change the look of the list in bacon?\n",
    "\n",
    "A: [1,23.2,99]"
   ]
  },
  {
   "cell_type": "markdown",
   "id": "06528844-ef49-46ac-b1bc-a49398e7d2e3",
   "metadata": {},
   "source": [
    "### 9. What are the list concatenation and list replication operators?\n",
    "\n",
    "A:\n",
    "List concatenation operator ('+') combines multiple lists.\n",
    "\n",
    "List replication operator ('*') replicates/multiplies the list values (exact copy of the list)."
   ]
  },
  {
   "cell_type": "markdown",
   "id": "5a8abfdf-6dbc-484d-8f1a-cc2bf1b456c2",
   "metadata": {},
   "source": [
    "### 10. What is difference between the list methods append() and insert()?\n",
    "\n",
    "A:\n",
    "  - append() -  adds the new items to the end of the list\n",
    "  - insert() -  adds the new items at any specified position"
   ]
  },
  {
   "cell_type": "markdown",
   "id": "4be82fcd-ba46-4820-88f9-34e8be9f7ec5",
   "metadata": {},
   "source": [
    "### 11. What are the two methods for removing items from a list?\n",
    "\n",
    "A:\n",
    "\n",
    "- remove() - removes the specified item from the list\n",
    "- pop() - removes the specified index from the list\n",
    "\n",
    "'del' statement can also be used to remove the items from the list"
   ]
  },
  {
   "cell_type": "markdown",
   "id": "51d7d51c-d07e-49f2-89ad-6c9934294002",
   "metadata": {},
   "source": [
    "### 12. Describe how list values and string values are identical.\n",
    "\n",
    "A:\n",
    "\n",
    "- Lists are similar to strings, which are ordered collections of characters, except that the elements of a list can have any type. \n",
    "- Both of the data types, List and strings, are having indexes and slices which will be used in for loops. \n",
    "- Both of them are using some common features like concatenation or replication and uses common functions such as len() and count().\n"
   ]
  },
  {
   "cell_type": "markdown",
   "id": "00cdd992-7105-4397-9a8b-7cb7d703418a",
   "metadata": {},
   "source": [
    "### 13. What's the difference between tuples and lists?\n",
    "\n",
    "A:\n",
    "List:\n",
    " - Lists are mutable (values can be added, removed, or changed)\n",
    " - Supports many build-in methods\n",
    " - Denoted using square brackets \"[ ]\"\n",
    "\n",
    "Tuples:\n",
    " - Tuples are immutable (values can't be added, removed, or changed)\n",
    " - Doesn't support many build-in methods\n",
    " - Denoted using the paranthesis \"( )\""
   ]
  },
  {
   "cell_type": "markdown",
   "id": "54456d6d-6b3a-40a1-88d3-fd3884cbbcb2",
   "metadata": {},
   "source": [
    "### 14. How do you type a tuple value that only contains the integer 42?\n",
    "\n",
    "A: \n",
    "```python\n",
    "a=tuple((42,))\n",
    "#or \n",
    "a=(42,)\n",
    "```"
   ]
  },
  {
   "cell_type": "markdown",
   "id": "bfbb72ce-d736-4096-8440-a1f6b873929d",
   "metadata": {},
   "source": [
    "### 15. How do you get a list value's tuple form? How do you get a tuple value's list form?\n",
    "\n",
    "A:\n",
    "- tuple() - converts the list values into tuples\n",
    "- list() - converts the tuple values into list"
   ]
  },
  {
   "cell_type": "markdown",
   "id": "49e52b85-c287-4f46-8dc5-74ade3287ebb",
   "metadata": {},
   "source": [
    "### 16. Variables that \"contain\" list values are not necessarily lists themselves. Instead, what do they contain?\n",
    "\n",
    "A:\n",
    "They might contain the references of those list values as well"
   ]
  },
  {
   "cell_type": "markdown",
   "id": "e76c81a8-5af3-48a8-92e2-e62923584a98",
   "metadata": {},
   "source": [
    "\n",
    "### 17. How do you distinguish between copy.copy() and copy.deepcopy()?\n",
    "\n",
    "A:\n",
    "- copy.copy() will return the shallow copy which means that any changes made to a copy of the object reflects in the original object as well\n",
    "- copy.deepcopy() will return the deep copy which means that any changes made to a copy of the object do not reflect in the original object"
   ]
  }
 ],
 "metadata": {
  "kernelspec": {
   "display_name": "Python 3 (ipykernel)",
   "language": "python",
   "name": "python3"
  },
  "language_info": {
   "codemirror_mode": {
    "name": "ipython",
    "version": 3
   },
   "file_extension": ".py",
   "mimetype": "text/x-python",
   "name": "python",
   "nbconvert_exporter": "python",
   "pygments_lexer": "ipython3",
   "version": "3.10.6"
  }
 },
 "nbformat": 4,
 "nbformat_minor": 5
}
