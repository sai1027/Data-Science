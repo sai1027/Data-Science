{
 "cells": [
  {
   "cell_type": "markdown",
   "id": "b72112e6-2f1c-4530-a8af-f0ecddfb7010",
   "metadata": {},
   "source": [
    "#### 1. What does an empty dictionary's code look like?\n",
    "\n",
    "A: \n",
    "Empty dictionary is denoted by {}"
   ]
  },
  {
   "cell_type": "markdown",
   "id": "dad3db32-057d-49f3-ae6e-6e3f1e43c741",
   "metadata": {},
   "source": [
    "#### 2. What is the value of a dictionary value with the key 'foo' and the value 42?\n",
    "\n",
    "A: It will be denoted as {key:value} which means {'foo':42}\n",
    "\n",
    "```python\n",
    "a={'foo':42}\n",
    "```"
   ]
  },
  {
   "cell_type": "markdown",
   "id": "929dfad9-4ef9-4c01-bd4c-6d83f2771cf0",
   "metadata": {},
   "source": [
    "#### 3. What is the most significant distinction between a dictionary and a list?\n",
    "\n",
    "A:\n",
    "- list can store any datatype and data can be accessed through index.\n",
    "- dictionary should have key and value pair. values are accessed with keys."
   ]
  },
  {
   "cell_type": "markdown",
   "id": "77ed8804-f864-472e-84c3-d2ccf6b71138",
   "metadata": {},
   "source": [
    "\n",
    "#### 4. What happens if you try to access spam['foo'] if spam is {'bar': 100}?\n",
    "\n",
    "A: \n",
    "The key 'foo' is not defined in the dictionary 'spam'. So it will generate the \"KeyError\""
   ]
  },
  {
   "cell_type": "markdown",
   "id": "70fce871-d242-42a2-9a39-3e5ee1c92b52",
   "metadata": {},
   "source": [
    "\n",
    "#### 5. If a dictionary is stored in spam, what is the difference between the expressions 'cat' in spam and 'cat' in spam.keys()?\n",
    "\n",
    "A: Both the expressions would give the same result. It checks whether the key 'cat' in available in the dict 'spam'"
   ]
  },
  {
   "cell_type": "code",
   "execution_count": 1,
   "id": "bc044f14-9fd8-4015-97bf-d5f19f4c6911",
   "metadata": {},
   "outputs": [
    {
     "name": "stdout",
     "output_type": "stream",
     "text": [
      "True\n",
      "True\n"
     ]
    }
   ],
   "source": [
    "spam = {'cat': 36}\n",
    "print('cat' in spam)\n",
    "print('cat' in spam.keys())"
   ]
  },
  {
   "cell_type": "markdown",
   "id": "9ed35fe1-6dc3-4405-8bad-d8d89ca3666a",
   "metadata": {},
   "source": [
    "#### 6. If a dictionary is stored in spam, what is the difference between the expressions 'cat' in spam and 'cat' in spam.values()?"
   ]
  },
  {
   "cell_type": "code",
   "execution_count": 2,
   "id": "d163fee8-ac63-487d-9f9a-4338f6d39e27",
   "metadata": {},
   "outputs": [
    {
     "name": "stdout",
     "output_type": "stream",
     "text": [
      "True\n",
      "False\n"
     ]
    }
   ],
   "source": [
    "spam = {'cat': 36}\n",
    "print('cat' in spam)\n",
    "print('cat' in spam.values())"
   ]
  },
  {
   "cell_type": "markdown",
   "id": "6c53c711-0350-4304-939e-16f2ddd81e1a",
   "metadata": {},
   "source": [
    "### 7. What is a shortcut for the following code?\n",
    "if 'color' not in spam:\n",
    "    spam['color'] = 'black'\n",
    "    \n",
    "A:\n",
    "```python\n",
    "spam.setdefault('color', 'black')\n",
    "```"
   ]
  },
  {
   "cell_type": "markdown",
   "id": "2db2b3d8-b42d-4f1d-8ca1-998b75c5a253",
   "metadata": {},
   "source": [
    "#### 8. How do you \"pretty print\" dictionary values using which module and function?\n",
    "\n",
    "We will have to use below module and function for the pretty print the dictionary in python.\n",
    "\n",
    "```python\n",
    "import pprint\n",
    "pprint.pprint()\n",
    "```"
   ]
  },
  {
   "cell_type": "code",
   "execution_count": 3,
   "id": "bdddc4dc-1cb5-484b-8332-5478a48cea61",
   "metadata": {},
   "outputs": [
    {
     "name": "stdout",
     "output_type": "stream",
     "text": [
      "[['spam', 'eggs', 'lumberjack', 'knights', 'ni'],\n",
      " 'spam',\n",
      " 'eggs',\n",
      " 'lumberjack',\n",
      " 'knights',\n",
      " 'ni']\n"
     ]
    }
   ],
   "source": [
    "import pprint\n",
    "stuff = ['spam', 'eggs', 'lumberjack', 'knights', 'ni']\n",
    "stuff.insert(0, stuff[:])\n",
    "pprint.pprint(stuff)"
   ]
  },
  {
   "cell_type": "markdown",
   "id": "1c5666bd-e7f9-457b-99f1-ebc4411babd4",
   "metadata": {},
   "source": []
  },
  {
   "cell_type": "markdown",
   "id": "bf610fe6-aaea-406e-896a-10a90ce7e69e",
   "metadata": {},
   "source": []
  },
  {
   "cell_type": "markdown",
   "id": "c19d2b91-2580-45e6-867d-71ec75ecf394",
   "metadata": {},
   "source": []
  },
  {
   "cell_type": "markdown",
   "id": "a4f2790c-1ecb-4d49-a62e-05f3fc3f9f8d",
   "metadata": {},
   "source": []
  },
  {
   "cell_type": "markdown",
   "id": "04fc284a-8c96-4751-9ea3-885bd23f4d86",
   "metadata": {},
   "source": []
  },
  {
   "cell_type": "markdown",
   "id": "31c73b0e-3b6f-43c0-8415-0de44e324f25",
   "metadata": {},
   "source": []
  },
  {
   "cell_type": "markdown",
   "id": "994f22ac-26b0-49bf-b165-65694197d809",
   "metadata": {},
   "source": []
  },
  {
   "cell_type": "markdown",
   "id": "c2519fb1-50f1-45ce-89b9-745da2242151",
   "metadata": {},
   "source": []
  },
  {
   "cell_type": "markdown",
   "id": "838e8647-22e7-4ecf-bec0-46d7a51aad7c",
   "metadata": {},
   "source": []
  },
  {
   "cell_type": "markdown",
   "id": "6eeab31b-e1ab-43d9-95dd-008a8c3225aa",
   "metadata": {},
   "source": []
  },
  {
   "cell_type": "markdown",
   "id": "284770d6-e635-4666-bb9d-92cdd57b2348",
   "metadata": {},
   "source": []
  },
  {
   "cell_type": "markdown",
   "id": "d529f362-7b38-4b2b-9ab4-e938953671ab",
   "metadata": {},
   "source": []
  }
 ],
 "metadata": {
  "kernelspec": {
   "display_name": "Python 3 (ipykernel)",
   "language": "python",
   "name": "python3"
  },
  "language_info": {
   "codemirror_mode": {
    "name": "ipython",
    "version": 3
   },
   "file_extension": ".py",
   "mimetype": "text/x-python",
   "name": "python",
   "nbconvert_exporter": "python",
   "pygments_lexer": "ipython3",
   "version": "3.10.6"
  }
 },
 "nbformat": 4,
 "nbformat_minor": 5
}
