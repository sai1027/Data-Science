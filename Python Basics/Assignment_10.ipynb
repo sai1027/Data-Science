{
 "cells": [
  {
   "cell_type": "markdown",
   "id": "ec7cd6be-9222-4ba2-955f-9f76f7d8acde",
   "metadata": {},
   "source": [
    "### 1. How do you distinguish between shutil.copy() and shutil.copytree()?\n",
    "\n",
    "\n",
    "\n",
    "     shutil.copy() will copy a single file.\n",
    "     shutil.copytree() will copy an entire folder and every folder and file contained in it.\n",
    "    \n",
    "    \n",
    "---"
   ]
  },
  {
   "cell_type": "markdown",
   "id": "5c62f184-0cf5-477b-be81-328c2e4c6ebd",
   "metadata": {},
   "source": [
    " ### 2. What function is used to rename files??\n",
    "\n",
    "    The shutil.move() function can be used for moving and renaming files as well.\n",
    "\n",
    "    Ex:\n",
    "    shutil.move('C:\\\\old_file.txt', 'C:\\\\folder\\\\new_file.txt')\n",
    "    \n",
    "***\n"
   ]
  },
  {
   "cell_type": "markdown",
   "id": "bd4e5b42-4f13-4956-8c6e-e12ee25253e3",
   "metadata": {},
   "source": [
    "### 3. What is the difference between the delete functions in the send2trash and shutil modules?\n",
    "\n",
    "\n",
    "- send2trash functions will move a file or folder to the recycle bin\n",
    "- shutil functions will permanently delete files and folders\n",
    "\n",
    "***"
   ]
  },
  {
   "cell_type": "markdown",
   "id": "f9738c1a-64b7-4cb6-b34b-c83bf8164315",
   "metadata": {},
   "source": [
    "### 4. ZipFile objects have a close() method just like File objects’ close() method. What ZipFile method is equivalent to File objects’ open() method?\n",
    "\n",
    "\n",
    "    The zipfile.ZipFile() function is equivalent to the open() function; \n",
    "    The first argument is the filename, and the second argument is the mode to open the ZIP file in (read, write, or append).\n",
    "    \n",
    "---"
   ]
  },
  {
   "cell_type": "markdown",
   "id": "d78000aa-1a86-4f37-bcfe-b8bcc9ffd966",
   "metadata": {},
   "source": [
    "### 5. Create a programme that searches a folder tree for files with a certain file extension (such as .pdf or .jpg). Copy these files from whatever location they are in to a new folder.\n",
    "\n"
   ]
  },
  {
   "cell_type": "code",
   "execution_count": 1,
   "id": "ace87f78-6b89-49cc-b5e8-9ba5ade099d4",
   "metadata": {},
   "outputs": [],
   "source": [
    "import os\n",
    "import shutil\n",
    "\n",
    "source_path = \"C:\\\\Users\\Desktop\\ML Models\"\n",
    "target_path = \"E:\\\\iNeuron\"\n",
    "\n",
    "# Search the folder, subfolder and file names in the input path\n",
    "for folderName, subfolders, filenames in os.walk(source_path):\n",
    "    for filename in filenames:\n",
    "        if filename.endswith('.pptx'):\n",
    "            doc_path=os.path.join(folderName,filename)\n",
    "            print('Location: ',doc_path)\n",
    "            shutil.copy(doc_path,target_path)"
   ]
  }
 ],
 "metadata": {
  "kernelspec": {
   "display_name": "Python 3 (ipykernel)",
   "language": "python",
   "name": "python3"
  },
  "language_info": {
   "codemirror_mode": {
    "name": "ipython",
    "version": 3
   },
   "file_extension": ".py",
   "mimetype": "text/x-python",
   "name": "python",
   "nbconvert_exporter": "python",
   "pygments_lexer": "ipython3",
   "version": "3.10.6"
  }
 },
 "nbformat": 4,
 "nbformat_minor": 5
}
