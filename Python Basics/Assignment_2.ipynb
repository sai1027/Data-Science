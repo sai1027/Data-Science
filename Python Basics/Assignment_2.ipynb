{
 "cells": [
  {
   "cell_type": "markdown",
   "id": "9be01b12-20fb-4a06-b522-e40544db71bb",
   "metadata": {},
   "source": [
    "1.What are the two values of the Boolean data type? How do you write them?\n",
    "\n",
    "A:\n",
    "True \n",
    "False\n"
   ]
  },
  {
   "cell_type": "raw",
   "id": "6e36dddc-db0a-4ed0-aa8b-aa04e352b572",
   "metadata": {},
   "source": [
    "2.What are the three different types of Boolean operators?\n",
    "\n",
    "A:\n",
    "and, or, not"
   ]
  },
  {
   "cell_type": "raw",
   "id": "c8446b0d-cbcb-487e-a0e6-46fd5198b272",
   "metadata": {},
   "source": [
    "3.Make a list of each Boolean operator's truth tables (i.e. every possible combination of Boolean values for the operator and what it evaluate ).\n",
    "\n",
    "A:\n",
    "\n",
    "and operator\n",
    "\n",
    "1 1 1\n",
    "0 0 0\n",
    "1 0 0\n",
    "0 1 0\n",
    "\n",
    "or operator\n",
    "\n",
    "1 1 1\n",
    "1 0 1\n",
    "0 1 1\n",
    "0 0 0\n",
    "\n",
    "not operator\n",
    " 1 0\n",
    " 0 1"
   ]
  },
  {
   "cell_type": "raw",
   "id": "5d686de0-7a33-4a04-9aaa-e73135ec6439",
   "metadata": {},
   "source": [
    "4.What are the values of the following expressions?\n",
    "\n",
    "(5 > 4) and (3 == 5)    ->False\n",
    "not (5 > 4)             ->False\n",
    "(5 > 4) or (3 == 5)     ->True\n",
    "not ((5 > 4) or (3 == 5))            ->False\n",
    "(True and True) and (True == False)  ->False\n",
    "(not False) or (not True)            ->True\n"
   ]
  },
  {
   "cell_type": "raw",
   "id": "8dbe76d1-bdfd-45da-a167-211c2b4bb6ae",
   "metadata": {},
   "source": [
    "5.What are the six comparison operators?\n",
    "\n",
    ">, <, >=, <=,==,!="
   ]
  },
  {
   "cell_type": "raw",
   "id": "7ed3bdff-e6de-4de9-a5ac-c95869f3c306",
   "metadata": {},
   "source": [
    "6.How do you tell the difference between the equal to and assignment operators?Describe a condition and when you would use one.\n",
    "\n",
    "A: \n",
    "if we use one time = then it is assignment. if we use it two times == then it is operator.\n",
    "\n",
    "Eg: \n",
    "assignment \n",
    "a=10\n",
    "\n",
    "operator\n",
    "if a==b:\n"
   ]
  },
  {
   "cell_type": "raw",
   "id": "f2fc310e-766c-49e5-a521-6c5cc9fc95b6",
   "metadata": {},
   "source": [
    "7.Identify the three blocks in this code:\n",
    "\n",
    "spam = 0\n",
    "if spam == 10:\n",
    "    print('eggs')\n",
    "    \n",
    "if spam > 5:\n",
    "    print('bacon')\n",
    "else:\n",
    "    print('ham')\n",
    "    print('spam')\n",
    "    print('spam')\n"
   ]
  },
  {
   "cell_type": "raw",
   "id": "acae84d6-e72b-4f72-87b4-aca1dfe25378",
   "metadata": {},
   "source": [
    "8.Write code that prints Hello if 1 is stored in spam, prints Howdy if 2 is stored in spam, and prints Greetings! if anything else is stored in spam.\n",
    "\n",
    "A:\n",
    "\n",
    "spam=1\n",
    "\n",
    "if spam==1:\n",
    "    print('Hello')\n",
    "elif spam==2:\n",
    "    print('Howdy')\n",
    "else:\n",
    "    print('Greetings!')\n",
    "    "
   ]
  },
  {
   "cell_type": "raw",
   "id": "d9a10236-9529-4885-aa32-9324921b4fd9",
   "metadata": {},
   "source": [
    "9.If your programme is stuck in an endless loop, what keys you’ll press?\n",
    "\n",
    "A:\n",
    " crtl+c or esc"
   ]
  },
  {
   "cell_type": "raw",
   "id": "a2968a9f-b6a5-4db9-b0fb-e7d31b201ab5",
   "metadata": {},
   "source": [
    "10.How can you tell the difference between break and continue?\n",
    "\n",
    "A:\n",
    "Break will end the loop\n",
    "Continue will just skip particular step of loop and continue for remaining loop."
   ]
  },
  {
   "cell_type": "raw",
   "id": "2ba5de9b-1dfc-4729-aa86-9c2001ca4244",
   "metadata": {},
   "source": [
    "11.In a for loop, what is the difference between range(10), range(0, 10), and range(0, 10, 1)?\n",
    "\n",
    "A:\n",
    "all the 3 give same output. will consider from 0 to 9 \n",
    "\n",
    "range(10) here only final limit is given,\n",
    "range(0, 10), initial and final limit is given \n",
    "range(0, 10, 1) here initial, final and jump distance given\n",
    "\n"
   ]
  },
  {
   "cell_type": "raw",
   "id": "7e65d032-a26f-4cb8-88f2-faa1a8b9e2d3",
   "metadata": {},
   "source": [
    "12.Write a short program that prints the numbers 1 to 10 using a for loop. Then write an equivalent program that prints the numbers 1 to 10 using a while loop.\n",
    "\n",
    "A:"
   ]
  },
  {
   "cell_type": "code",
   "execution_count": 10,
   "id": "c450bba6-fcdf-4308-bb30-99a374ca2464",
   "metadata": {},
   "outputs": [
    {
     "name": "stdout",
     "output_type": "stream",
     "text": [
      "0\n",
      "1\n",
      "2\n",
      "3\n",
      "4\n",
      "5\n",
      "6\n",
      "7\n",
      "8\n",
      "9\n",
      "10\n"
     ]
    }
   ],
   "source": [
    "for i in range(0,11):\n",
    "    print(i)"
   ]
  },
  {
   "cell_type": "code",
   "execution_count": 13,
   "id": "8cc6fcf7-2629-4615-a75a-24d28c13a7bb",
   "metadata": {},
   "outputs": [
    {
     "name": "stdout",
     "output_type": "stream",
     "text": [
      "1\n",
      "2\n",
      "3\n",
      "4\n",
      "5\n",
      "6\n",
      "7\n",
      "8\n",
      "9\n",
      "10\n"
     ]
    }
   ],
   "source": [
    "n=1\n",
    "while n<=10:\n",
    "    print(n)\n",
    "    n+=1"
   ]
  },
  {
   "cell_type": "raw",
   "id": "34a9093e-e380-420c-9bbf-3edd794f7179",
   "metadata": {},
   "source": [
    "13.If you had a function named bacon() inside a module named spam, how would you call it after importing spam?\n",
    "\n",
    "A:\n",
    "spam.bacon()"
   ]
  }
 ],
 "metadata": {
  "kernelspec": {
   "display_name": "Python 3 (ipykernel)",
   "language": "python",
   "name": "python3"
  },
  "language_info": {
   "codemirror_mode": {
    "name": "ipython",
    "version": 3
   },
   "file_extension": ".py",
   "mimetype": "text/x-python",
   "name": "python",
   "nbconvert_exporter": "python",
   "pygments_lexer": "ipython3",
   "version": "3.10.6"
  }
 },
 "nbformat": 4,
 "nbformat_minor": 5
}
